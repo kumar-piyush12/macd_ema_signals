{
 "cells": [
  {
   "cell_type": "code",
   "execution_count": 8,
   "metadata": {},
   "outputs": [
    {
     "name": "stderr",
     "output_type": "stream",
     "text": [
      "WARNING:tvDatafeed.main:you are using nologin method, data you access may be limited\n"
     ]
    }
   ],
   "source": [
    "from tvDatafeed import TvDatafeed, Interval\n",
    "tv = TvDatafeed()\n",
    "import numpy as np\n",
    "import pandas as pd\n",
    "import talib\n",
    "import time"
   ]
  },
  {
   "cell_type": "code",
   "execution_count": 3,
   "metadata": {},
   "outputs": [],
   "source": [
    "df = pd.read_csv(\"ind_nifty100list.csv\")\n",
    "stocks = df['Symbol'].unique().tolist() #Sending Output string\n",
    "stocks[12] = 'BAJAJ_AUTO'\n",
    "stocks[62] = 'M_M'"
   ]
  },
  {
   "cell_type": "code",
   "execution_count": 4,
   "metadata": {},
   "outputs": [],
   "source": [
    "def label_change(row):\n",
    " if row['sign_change']:\n",
    "  if row['sign'] == 1:\n",
    "   return 'Buy' #Negative to Positive\n",
    "  else:\n",
    "   return 'Sell' #Positive to Negative\n",
    " return None"
   ]
  },
  {
   "cell_type": "code",
   "execution_count": 5,
   "metadata": {},
   "outputs": [],
   "source": [
    "all_cases_df = pd.DataFrame()"
   ]
  },
  {
   "cell_type": "code",
   "execution_count": null,
   "metadata": {},
   "outputs": [],
   "source": [
    "def process_stock(symbol):\n",
    "    try:\n",
    "        stock_history = tv.get_hist(symbol=symbol, exchange='NSE', interval=Interval.in_daily, n_bars=300)\n",
    "        close_values = stock_history['close']\n",
    "        low_values = stock_history['low']\n",
    "        macd_stock = talib.MACD(stock_history['close'], fastperiod=12, slowperiod=26, signalperiod=9)\n",
    "        ema_stock = talib.EMA(stock_history['close'], timeperiod=9)\n",
    "        df = pd.DataFrame({'time': close_values.index, 'close_price': close_values.values, 'macd-signal': macd_stock[2].values, 'ema9': ema_stock.values})\n",
    "        # ema_max50\n",
    "        df['ema9_max'] = df['ema9'].rolling(window=50, min_periods=1).max()\n",
    "        df['ema9_min'] = df['ema9'].rolling(window=50, min_periods=1).min()\n",
    "        ema_max_50 = df[df['ema9'] == df['ema9_max']]  # ema-max-50days\n",
    "        ema_min_50 = df[df['ema9'] == df['ema9_min']]  # ema-min-50days\n",
    "        df['is_50_day_high'] = df['ema9'] == df['ema9_max']  # Boolean column\n",
    "        df['is_50_day_low'] = df['ema9'] == df['ema9_min']  # Boolean column\n",
    "        df['macd-signal'] = df['macd-signal'].fillna(method='ffill').fillna(method='bfill')\n",
    "        df['sign'] = df['macd-signal'].apply(lambda x: 1 if x > 0 else -1)\n",
    "        df['sign_change'] = df['sign'] != df['sign'].shift(1)\n",
    "        df['action'] = df.apply(label_change, axis=1)\n",
    "        df['stock_name'] = symbol\n",
    "        buy_cases_df = df[(df['is_50_day_high'] == True) & (df['action'] == 'Buy')][['stock_name', 'time', 'close_price', 'action', 'ema9_max', 'macd-signal']]# Collecting all buy cases\n",
    "        sell_cases_df = df[(df['is_50_day_low'] == True) & (df['action'] == 'Sell')][['stock_name', 'time', 'close_price', 'action', 'ema9_min', 'macd-signal']]# Collecting all sell cases\n",
    "        combined_df = pd.concat([buy_cases_df, sell_cases_df])# Combine buy_cases_df and sell_cases_df\n",
    "        combined_df = combined_df.sort_values(by='time', ascending=True)# Sort combined dataframe by time in descending order\n",
    "        combined_df.reset_index(drop=True, inplace=True)# Reset index for clean output\n",
    "        return combined_df\n",
    "    except Exception as e:\n",
    "        print(f\"Error processing {symbol}: {e}\")\n",
    "        return None\n",
    "all_cases_df = pd.DataFrame()\n",
    "retries = 5\n",
    "\n",
    "for i in range(len(stocks)):\n",
    "    symbol = stocks[i]\n",
    "    for attempt in range(retries):\n",
    "        result_df = process_stock(symbol)\n",
    "        if result_df is not None:\n",
    "            all_cases_df = pd.concat([all_cases_df, result_df], ignore_index=True)\n",
    "            break\n",
    "        else:\n",
    "            print(f\"Retrying {symbol}... Attempt {attempt + 1} of {retries}\")\n",
    "            time.sleep(1)  "
   ]
  },
  {
   "cell_type": "code",
   "execution_count": null,
   "metadata": {},
   "outputs": [],
   "source": [
    "all_cases_df"
   ]
  },
  {
   "cell_type": "code",
   "execution_count": 8,
   "metadata": {},
   "outputs": [],
   "source": [
    "all_cases_df.to_csv('ema-macd-actions.csv', index=False)"
   ]
  },
  {
   "cell_type": "code",
   "execution_count": null,
   "metadata": {},
   "outputs": [],
   "source": []
  }
 ],
 "metadata": {
  "kernelspec": {
   "display_name": ".venv",
   "language": "python",
   "name": "python3"
  },
  "language_info": {
   "codemirror_mode": {
    "name": "ipython",
    "version": 3
   },
   "file_extension": ".py",
   "mimetype": "text/x-python",
   "name": "python",
   "nbconvert_exporter": "python",
   "pygments_lexer": "ipython3",
   "version": "3.11.0"
  }
 },
 "nbformat": 4,
 "nbformat_minor": 2
}
